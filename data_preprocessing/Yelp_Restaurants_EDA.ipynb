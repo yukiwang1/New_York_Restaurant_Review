{
  "nbformat": 4,
  "nbformat_minor": 0,
  "metadata": {
    "colab": {
      "name": "Yelp_Restaurants_EDA.ipynb",
      "provenance": []
    },
    "kernelspec": {
      "name": "python3",
      "display_name": "Python 3"
    },
    "language_info": {
      "name": "python"
    }
  },
  "cells": [
    {
      "cell_type": "code",
      "metadata": {
        "id": "9ngdUWwo-Zu9"
      },
      "source": [
        "import pandas as pd\n",
        "import numpy as np\n",
        "import seaborn as sns\n",
        "import matplotlib.pyplot as plt"
      ],
      "execution_count": null,
      "outputs": []
    },
    {
      "cell_type": "code",
      "metadata": {
        "colab": {
          "base_uri": "https://localhost:8080/"
        },
        "id": "akuyJB_v-47c",
        "outputId": "9d55f390-245a-44bc-c128-334c167f0c80"
      },
      "source": [
        "from google.colab import drive\n",
        "drive.mount('/content/drive')"
      ],
      "execution_count": null,
      "outputs": [
        {
          "output_type": "stream",
          "name": "stdout",
          "text": [
            "Mounted at /content/drive\n"
          ]
        }
      ]
    },
    {
      "cell_type": "code",
      "metadata": {
        "id": "i9eWSTG7_DkI"
      },
      "source": [
        "file_path = '/content/drive/Shareddrives/CIS 550 Group Project/Datasets/Yelp_Restaurants.csv'"
      ],
      "execution_count": null,
      "outputs": []
    },
    {
      "cell_type": "code",
      "metadata": {
        "id": "aRLPFldW_DHl"
      },
      "source": [
        "prelim_df = pd.read_csv(file_path)"
      ],
      "execution_count": null,
      "outputs": []
    },
    {
      "cell_type": "code",
      "metadata": {
        "colab": {
          "base_uri": "https://localhost:8080/"
        },
        "id": "rbODEBBN_R2p",
        "outputId": "9f725e42-7386-4626-9f77-9283ff9ed465"
      },
      "source": [
        "prelim_df.shape"
      ],
      "execution_count": null,
      "outputs": [
        {
          "output_type": "execute_result",
          "data": {
            "text/plain": [
              "(27209, 19)"
            ]
          },
          "metadata": {},
          "execution_count": 6
        }
      ]
    },
    {
      "cell_type": "code",
      "metadata": {
        "colab": {
          "base_uri": "https://localhost:8080/"
        },
        "id": "xz9abV-Q_Rvb",
        "outputId": "b33a13d9-4ce4-4531-98a9-16efd55e022c"
      },
      "source": [
        "prelim_df.info()"
      ],
      "execution_count": null,
      "outputs": [
        {
          "output_type": "stream",
          "name": "stdout",
          "text": [
            "<class 'pandas.core.frame.DataFrame'>\n",
            "RangeIndex: 27209 entries, 0 to 27208\n",
            "Data columns (total 19 columns):\n",
            " #   Column        Non-Null Count  Dtype  \n",
            "---  ------        --------------  -----  \n",
            " 0   DOH_ID        27209 non-null  int64  \n",
            " 1   Name          27209 non-null  object \n",
            " 2   Image URL     26800 non-null  object \n",
            " 3   URL           27209 non-null  object \n",
            " 4   Review_count  27209 non-null  int64  \n",
            " 5   Category1     27179 non-null  object \n",
            " 6   Category2     17229 non-null  object \n",
            " 7   Category3     9916 non-null   object \n",
            " 8   Rating        27209 non-null  float64\n",
            " 9   Latitude      27207 non-null  float64\n",
            " 10  Longitude     27207 non-null  float64\n",
            " 11  Address1      27139 non-null  object \n",
            " 12  Address2      1001 non-null   object \n",
            " 13  Address3      451 non-null    object \n",
            " 14  City          27209 non-null  object \n",
            " 15  Zip           27207 non-null  object \n",
            " 16  Country       27209 non-null  object \n",
            " 17  State         27209 non-null  object \n",
            " 18  Phone         25622 non-null  object \n",
            "dtypes: float64(3), int64(2), object(14)\n",
            "memory usage: 3.9+ MB\n"
          ]
        }
      ]
    },
    {
      "cell_type": "code",
      "metadata": {
        "colab": {
          "base_uri": "https://localhost:8080/"
        },
        "id": "Vvw5Cjqr_R8l",
        "outputId": "350db839-c0cf-4e01-8c2f-562e7af41d2a"
      },
      "source": [
        "usage_by_col = prelim_df.memory_usage(deep=True)\n",
        "total_usage = usage_by_col.sum()\n",
        "mbs = total_usage / 1e6\n",
        "mbs"
      ],
      "execution_count": null,
      "outputs": [
        {
          "output_type": "execute_result",
          "data": {
            "text/plain": [
              "29.796469"
            ]
          },
          "metadata": {},
          "execution_count": 8
        }
      ]
    },
    {
      "cell_type": "code",
      "metadata": {
        "colab": {
          "base_uri": "https://localhost:8080/"
        },
        "id": "cUT6WPik_13Q",
        "outputId": "b6e76e36-959e-4a5e-c708-0ca49675bbdd"
      },
      "source": [
        "prelim_df.isnull().any()"
      ],
      "execution_count": null,
      "outputs": [
        {
          "output_type": "execute_result",
          "data": {
            "text/plain": [
              "DOH_ID          False\n",
              "Name            False\n",
              "Image URL        True\n",
              "URL             False\n",
              "Review_count    False\n",
              "Category1        True\n",
              "Category2        True\n",
              "Category3        True\n",
              "Rating          False\n",
              "Latitude         True\n",
              "Longitude        True\n",
              "Address1         True\n",
              "Address2         True\n",
              "Address3         True\n",
              "City            False\n",
              "Zip              True\n",
              "Country         False\n",
              "State           False\n",
              "Phone            True\n",
              "dtype: bool"
            ]
          },
          "metadata": {},
          "execution_count": 9
        }
      ]
    },
    {
      "cell_type": "code",
      "metadata": {
        "colab": {
          "base_uri": "https://localhost:8080/"
        },
        "id": "Q0Wzu9El_2A4",
        "outputId": "0efbc038-7ef5-493c-bd19-44ba260fc07d"
      },
      "source": [
        "missing = prelim_df.copy()\n",
        "for col in missing.columns:\n",
        "  missing[col] = missing[col].isnull()\n",
        "missing.sum()"
      ],
      "execution_count": null,
      "outputs": [
        {
          "output_type": "execute_result",
          "data": {
            "text/plain": [
              "DOH_ID              0\n",
              "Name                0\n",
              "Image URL         409\n",
              "URL                 0\n",
              "Review_count        0\n",
              "Category1          30\n",
              "Category2        9980\n",
              "Category3       17293\n",
              "Rating              0\n",
              "Latitude            2\n",
              "Longitude           2\n",
              "Address1           70\n",
              "Address2        26208\n",
              "Address3        26758\n",
              "City                0\n",
              "Zip                 2\n",
              "Country             0\n",
              "State               0\n",
              "Phone            1587\n",
              "dtype: int64"
            ]
          },
          "metadata": {},
          "execution_count": 10
        }
      ]
    },
    {
      "cell_type": "code",
      "metadata": {
        "colab": {
          "base_uri": "https://localhost:8080/",
          "height": 300
        },
        "id": "fp4ci9JcEVh_",
        "outputId": "f66fa272-a1e0-471b-b7e9-addace40d274"
      },
      "source": [
        "prelim_df.describe()"
      ],
      "execution_count": null,
      "outputs": [
        {
          "output_type": "execute_result",
          "data": {
            "text/html": [
              "<div>\n",
              "<style scoped>\n",
              "    .dataframe tbody tr th:only-of-type {\n",
              "        vertical-align: middle;\n",
              "    }\n",
              "\n",
              "    .dataframe tbody tr th {\n",
              "        vertical-align: top;\n",
              "    }\n",
              "\n",
              "    .dataframe thead th {\n",
              "        text-align: right;\n",
              "    }\n",
              "</style>\n",
              "<table border=\"1\" class=\"dataframe\">\n",
              "  <thead>\n",
              "    <tr style=\"text-align: right;\">\n",
              "      <th></th>\n",
              "      <th>DOH_ID</th>\n",
              "      <th>Review_count</th>\n",
              "      <th>Rating</th>\n",
              "      <th>Latitude</th>\n",
              "      <th>Longitude</th>\n",
              "    </tr>\n",
              "  </thead>\n",
              "  <tbody>\n",
              "    <tr>\n",
              "      <th>count</th>\n",
              "      <td>27209.000000</td>\n",
              "      <td>27209.000000</td>\n",
              "      <td>27209.000000</td>\n",
              "      <td>27207.000000</td>\n",
              "      <td>27207.000000</td>\n",
              "    </tr>\n",
              "    <tr>\n",
              "      <th>mean</th>\n",
              "      <td>14254.002683</td>\n",
              "      <td>294.352310</td>\n",
              "      <td>3.718218</td>\n",
              "      <td>40.728342</td>\n",
              "      <td>-73.950485</td>\n",
              "    </tr>\n",
              "    <tr>\n",
              "      <th>std</th>\n",
              "      <td>8019.794848</td>\n",
              "      <td>737.093192</td>\n",
              "      <td>0.747978</td>\n",
              "      <td>0.122010</td>\n",
              "      <td>0.350658</td>\n",
              "    </tr>\n",
              "    <tr>\n",
              "      <th>min</th>\n",
              "      <td>2.000000</td>\n",
              "      <td>0.000000</td>\n",
              "      <td>0.000000</td>\n",
              "      <td>31.086427</td>\n",
              "      <td>-122.895721</td>\n",
              "    </tr>\n",
              "    <tr>\n",
              "      <th>25%</th>\n",
              "      <td>7233.000000</td>\n",
              "      <td>25.000000</td>\n",
              "      <td>3.500000</td>\n",
              "      <td>40.692446</td>\n",
              "      <td>-73.990488</td>\n",
              "    </tr>\n",
              "    <tr>\n",
              "      <th>50%</th>\n",
              "      <td>14491.000000</td>\n",
              "      <td>88.000000</td>\n",
              "      <td>4.000000</td>\n",
              "      <td>40.733080</td>\n",
              "      <td>-73.965322</td>\n",
              "    </tr>\n",
              "    <tr>\n",
              "      <th>75%</th>\n",
              "      <td>21705.000000</td>\n",
              "      <td>268.000000</td>\n",
              "      <td>4.000000</td>\n",
              "      <td>40.761300</td>\n",
              "      <td>-73.911406</td>\n",
              "    </tr>\n",
              "    <tr>\n",
              "      <th>max</th>\n",
              "      <td>26565.000000</td>\n",
              "      <td>12925.000000</td>\n",
              "      <td>5.000000</td>\n",
              "      <td>49.118698</td>\n",
              "      <td>-72.375473</td>\n",
              "    </tr>\n",
              "  </tbody>\n",
              "</table>\n",
              "</div>"
            ],
            "text/plain": [
              "             DOH_ID  Review_count        Rating      Latitude     Longitude\n",
              "count  27209.000000  27209.000000  27209.000000  27207.000000  27207.000000\n",
              "mean   14254.002683    294.352310      3.718218     40.728342    -73.950485\n",
              "std     8019.794848    737.093192      0.747978      0.122010      0.350658\n",
              "min        2.000000      0.000000      0.000000     31.086427   -122.895721\n",
              "25%     7233.000000     25.000000      3.500000     40.692446    -73.990488\n",
              "50%    14491.000000     88.000000      4.000000     40.733080    -73.965322\n",
              "75%    21705.000000    268.000000      4.000000     40.761300    -73.911406\n",
              "max    26565.000000  12925.000000      5.000000     49.118698    -72.375473"
            ]
          },
          "metadata": {},
          "execution_count": 29
        }
      ]
    },
    {
      "cell_type": "code",
      "metadata": {
        "colab": {
          "base_uri": "https://localhost:8080/"
        },
        "id": "vGp_N8qKCNOh",
        "outputId": "a5b634ae-7d61-4d00-a4a5-02fc981b9838"
      },
      "source": [
        "# Summary statistics\n",
        "\n",
        "for col in prelim_df.columns:\n",
        "  print('\\n', prelim_df[col].describe(), '\\n')"
      ],
      "execution_count": null,
      "outputs": [
        {
          "output_type": "stream",
          "name": "stdout",
          "text": [
            "\n",
            " count    27209.000000\n",
            "mean     14254.002683\n",
            "std       8019.794848\n",
            "min          2.000000\n",
            "25%       7233.000000\n",
            "50%      14491.000000\n",
            "75%      21705.000000\n",
            "max      26565.000000\n",
            "Name: DOH_ID, dtype: float64 \n",
            "\n",
            "\n",
            " count       27209\n",
            "unique      17236\n",
            "top       Dunkin'\n",
            "freq          205\n",
            "Name: Name, dtype: object \n",
            "\n",
            "\n",
            " count                                                 26800\n",
            "unique                                                19529\n",
            "top       https://s3-media1.fl.yelpcdn.com/bphoto/sQ7nU0...\n",
            "freq                                                     56\n",
            "Name: Image URL, dtype: object \n",
            "\n",
            "\n",
            " count                                                 27209\n",
            "unique                                                21442\n",
            "top       https://www.yelp.com/biz/dunkin-donuts-baskin-...\n",
            "freq                                                     56\n",
            "Name: URL, dtype: object \n",
            "\n",
            "\n",
            " count    27209.000000\n",
            "mean       294.352310\n",
            "std        737.093192\n",
            "min          0.000000\n",
            "25%         25.000000\n",
            "50%         88.000000\n",
            "75%        268.000000\n",
            "max      12925.000000\n",
            "Name: Review_count, dtype: float64 \n",
            "\n",
            "\n",
            " count     27179\n",
            "unique      468\n",
            "top       Pizza\n",
            "freq       1930\n",
            "Name: Category1, dtype: object \n",
            "\n",
            "\n",
            " count                  17229\n",
            "unique                   422\n",
            "top       Breakfast & Brunch\n",
            "freq                     906\n",
            "Name: Category2, dtype: object \n",
            "\n",
            "\n",
            " count           9916\n",
            "unique           332\n",
            "top       Sandwiches\n",
            "freq             761\n",
            "Name: Category3, dtype: object \n",
            "\n",
            "\n",
            " count    27209.000000\n",
            "mean         3.718218\n",
            "std          0.747978\n",
            "min          0.000000\n",
            "25%          3.500000\n",
            "50%          4.000000\n",
            "75%          4.000000\n",
            "max          5.000000\n",
            "Name: Rating, dtype: float64 \n",
            "\n",
            "\n",
            " count    27207.000000\n",
            "mean        40.728342\n",
            "std          0.122010\n",
            "min         31.086427\n",
            "25%         40.692446\n",
            "50%         40.733080\n",
            "75%         40.761300\n",
            "max         49.118698\n",
            "Name: Latitude, dtype: float64 \n",
            "\n",
            "\n",
            " count    27207.000000\n",
            "mean       -73.950485\n",
            "std          0.350658\n",
            "min       -122.895721\n",
            "25%        -73.990488\n",
            "50%        -73.965322\n",
            "75%        -73.911406\n",
            "max        -72.375473\n",
            "Name: Longitude, dtype: float64 \n",
            "\n",
            "\n",
            " count                  27139\n",
            "unique                 18306\n",
            "top       168-04 Jamaica Ave\n",
            "freq                      56\n",
            "Name: Address1, dtype: object \n",
            "\n",
            "\n",
            " count     1001\n",
            "unique     382\n",
            "top       Fl 2\n",
            "freq        79\n",
            "Name: Address2, dtype: object \n",
            "\n",
            "\n",
            " count            451\n",
            "unique           272\n",
            "top       Terminal 4\n",
            "freq              19\n",
            "Name: Address3, dtype: object \n",
            "\n",
            "\n",
            " count        27209\n",
            "unique         412\n",
            "top       New York\n",
            "freq         11624\n",
            "Name: City, dtype: object \n",
            "\n",
            "\n",
            " count     27207\n",
            "unique      472\n",
            "top       10003\n",
            "freq        806\n",
            "Name: Zip, dtype: object \n",
            "\n",
            "\n",
            " count     27209\n",
            "unique        2\n",
            "top          US\n",
            "freq      27208\n",
            "Name: Country, dtype: object \n",
            "\n",
            "\n",
            " count     27209\n",
            "unique        9\n",
            "top          NY\n",
            "freq      26860\n",
            "Name: State, dtype: object \n",
            "\n",
            "\n",
            " count              25622\n",
            "unique             18330\n",
            "top       (212) 786-2068\n",
            "freq                  35\n",
            "Name: Phone, dtype: object \n",
            "\n"
          ]
        }
      ]
    },
    {
      "cell_type": "code",
      "metadata": {
        "colab": {
          "base_uri": "https://localhost:8080/",
          "height": 602
        },
        "id": "RegcPNs-Cl-u",
        "outputId": "668e03c5-fc4e-4e6a-eb48-6c1745955274"
      },
      "source": [
        "sns.displot(prelim_df, x = 'Rating', binwidth=.25, height=8, facet_kws=dict(margin_titles=True))"
      ],
      "execution_count": null,
      "outputs": [
        {
          "output_type": "execute_result",
          "data": {
            "text/plain": [
              "<seaborn.axisgrid.FacetGrid at 0x7f10c258d390>"
            ]
          },
          "metadata": {},
          "execution_count": 21
        },
        {
          "output_type": "display_data",
          "data": {
            "image/png": "[encoded data removed]",
            "text/plain": [
              "<Figure size 576x576 with 1 Axes>"
            ]
          },
          "metadata": {
            "needs_background": "light"
          }
        }
      ]
    }
  ]
}