{
  "nbformat": 4,
  "nbformat_minor": 0,
  "metadata": {
    "colab": {
      "name": "NYC_Median_Income_EDA.ipynb",
      "provenance": []
    },
    "kernelspec": {
      "name": "python3",
      "display_name": "Python 3"
    },
    "language_info": {
      "name": "python"
    }
  },
  "cells": [
    {
      "cell_type": "code",
      "metadata": {
        "id": "uJiYcqM5MwWz"
      },
      "source": [
        "import pandas as pd\n",
        "import numpy as np\n",
        "import seaborn as sns\n",
        "import matplotlib.pyplot as plt"
      ],
      "execution_count": null,
      "outputs": []
    },
    {
      "cell_type": "code",
      "metadata": {
        "colab": {
          "base_uri": "https://localhost:8080/"
        },
        "id": "ANLWKM9tM49g",
        "outputId": "94c7af18-5ec6-4f77-ce9e-cb337d8de60c"
      },
      "source": [
        "from google.colab import drive\n",
        "drive.mount('/content/drive')"
      ],
      "execution_count": null,
      "outputs": [
        {
          "output_type": "stream",
          "name": "stdout",
          "text": [
            "Mounted at /content/drive\n"
          ]
        }
      ]
    },
    {
      "cell_type": "code",
      "metadata": {
        "id": "227awjCjM8f3"
      },
      "source": [
        "filepath = '/content/drive/Shareddrives/CIS 550 Group Project/Datasets/Median Incomes.csv'"
      ],
      "execution_count": null,
      "outputs": []
    },
    {
      "cell_type": "code",
      "metadata": {
        "id": "nnlGTc6yNLWi"
      },
      "source": [
        "prelim_df = pd.read_csv(filepath, skiprows=5)"
      ],
      "execution_count": null,
      "outputs": []
    },
    {
      "cell_type": "code",
      "metadata": {
        "colab": {
          "base_uri": "https://localhost:8080/",
          "height": 206
        },
        "id": "KdTRiI8dNdpV",
        "outputId": "30d86a28-c53b-4dad-9345-ad43afc605b3"
      },
      "source": [
        "prelim_df.head()"
      ],
      "execution_count": null,
      "outputs": [
        {
          "output_type": "execute_result",
          "data": {
            "text/html": [
              "<div>\n",
              "<style scoped>\n",
              "    .dataframe tbody tr th:only-of-type {\n",
              "        vertical-align: middle;\n",
              "    }\n",
              "\n",
              "    .dataframe tbody tr th {\n",
              "        vertical-align: top;\n",
              "    }\n",
              "\n",
              "    .dataframe thead th {\n",
              "        text-align: right;\n",
              "    }\n",
              "</style>\n",
              "<table border=\"1\" class=\"dataframe\">\n",
              "  <thead>\n",
              "    <tr style=\"text-align: right;\">\n",
              "      <th></th>\n",
              "      <th>Location</th>\n",
              "      <th>Household Type</th>\n",
              "      <th>TimeFrame</th>\n",
              "      <th>DataFormat</th>\n",
              "      <th>Data</th>\n",
              "      <th>Fips</th>\n",
              "    </tr>\n",
              "  </thead>\n",
              "  <tbody>\n",
              "    <tr>\n",
              "      <th>0</th>\n",
              "      <td>Astoria</td>\n",
              "      <td>Families without Children</td>\n",
              "      <td>2019</td>\n",
              "      <td>Dollars</td>\n",
              "      <td>92755</td>\n",
              "      <td>401</td>\n",
              "    </tr>\n",
              "    <tr>\n",
              "      <th>1</th>\n",
              "      <td>Astoria</td>\n",
              "      <td>Families with Children</td>\n",
              "      <td>2019</td>\n",
              "      <td>Dollars</td>\n",
              "      <td>75972</td>\n",
              "      <td>401</td>\n",
              "    </tr>\n",
              "    <tr>\n",
              "      <th>2</th>\n",
              "      <td>Astoria</td>\n",
              "      <td>Families</td>\n",
              "      <td>2019</td>\n",
              "      <td>Dollars</td>\n",
              "      <td>88662</td>\n",
              "      <td>401</td>\n",
              "    </tr>\n",
              "    <tr>\n",
              "      <th>3</th>\n",
              "      <td>Astoria</td>\n",
              "      <td>All Households</td>\n",
              "      <td>2019</td>\n",
              "      <td>Dollars</td>\n",
              "      <td>79180</td>\n",
              "      <td>401</td>\n",
              "    </tr>\n",
              "    <tr>\n",
              "      <th>4</th>\n",
              "      <td>Astoria</td>\n",
              "      <td>Families without Children</td>\n",
              "      <td>2018</td>\n",
              "      <td>Dollars</td>\n",
              "      <td>79374.50784</td>\n",
              "      <td>401</td>\n",
              "    </tr>\n",
              "  </tbody>\n",
              "</table>\n",
              "</div>"
            ],
            "text/plain": [
              "  Location             Household Type  TimeFrame DataFormat         Data  Fips\n",
              "0  Astoria  Families without Children       2019    Dollars        92755   401\n",
              "1  Astoria     Families with Children       2019    Dollars        75972   401\n",
              "2  Astoria                   Families       2019    Dollars        88662   401\n",
              "3  Astoria             All Households       2019    Dollars        79180   401\n",
              "4  Astoria  Families without Children       2018    Dollars  79374.50784   401"
            ]
          },
          "metadata": {},
          "execution_count": 7
        }
      ]
    },
    {
      "cell_type": "code",
      "metadata": {
        "colab": {
          "base_uri": "https://localhost:8080/",
          "height": 206
        },
        "id": "5N6swhc8OVqV",
        "outputId": "5d34cd44-34ff-4509-c07c-6a7ac3e9f9a2"
      },
      "source": [
        "prelim_df.tail()"
      ],
      "execution_count": null,
      "outputs": [
        {
          "output_type": "execute_result",
          "data": {
            "text/html": [
              "<div>\n",
              "<style scoped>\n",
              "    .dataframe tbody tr th:only-of-type {\n",
              "        vertical-align: middle;\n",
              "    }\n",
              "\n",
              "    .dataframe tbody tr th {\n",
              "        vertical-align: top;\n",
              "    }\n",
              "\n",
              "    .dataframe thead th {\n",
              "        text-align: right;\n",
              "    }\n",
              "</style>\n",
              "<table border=\"1\" class=\"dataframe\">\n",
              "  <thead>\n",
              "    <tr style=\"text-align: right;\">\n",
              "      <th></th>\n",
              "      <th>Location</th>\n",
              "      <th>Household Type</th>\n",
              "      <th>TimeFrame</th>\n",
              "      <th>DataFormat</th>\n",
              "      <th>Data</th>\n",
              "      <th>Fips</th>\n",
              "    </tr>\n",
              "  </thead>\n",
              "  <tbody>\n",
              "    <tr>\n",
              "      <th>6063</th>\n",
              "      <td>Zip Code 10474</td>\n",
              "      <td>Families with Children</td>\n",
              "      <td>2017</td>\n",
              "      <td>Dollars</td>\n",
              "      <td>22568.09834</td>\n",
              "      <td>10474</td>\n",
              "    </tr>\n",
              "    <tr>\n",
              "      <th>6064</th>\n",
              "      <td>Zip Code 10454</td>\n",
              "      <td>All Households</td>\n",
              "      <td>2017</td>\n",
              "      <td>Dollars</td>\n",
              "      <td>22466.93352</td>\n",
              "      <td>10454</td>\n",
              "    </tr>\n",
              "    <tr>\n",
              "      <th>6065</th>\n",
              "      <td>Zip Code 10454</td>\n",
              "      <td>All Households</td>\n",
              "      <td>2018</td>\n",
              "      <td>Dollars</td>\n",
              "      <td>21532.1755</td>\n",
              "      <td>10454</td>\n",
              "    </tr>\n",
              "    <tr>\n",
              "      <th>6066</th>\n",
              "      <td>Zip Code 10454</td>\n",
              "      <td>All Households</td>\n",
              "      <td>2019</td>\n",
              "      <td>Dollars</td>\n",
              "      <td>21447</td>\n",
              "      <td>10454</td>\n",
              "    </tr>\n",
              "    <tr>\n",
              "      <th>6067</th>\n",
              "      <td>Zip Code 10474</td>\n",
              "      <td>Families with Children</td>\n",
              "      <td>2019</td>\n",
              "      <td>Dollars</td>\n",
              "      <td>20114</td>\n",
              "      <td>10474</td>\n",
              "    </tr>\n",
              "  </tbody>\n",
              "</table>\n",
              "</div>"
            ],
            "text/plain": [
              "            Location          Household Type  ...         Data   Fips\n",
              "6063  Zip Code 10474  Families with Children  ...  22568.09834  10474\n",
              "6064  Zip Code 10454          All Households  ...  22466.93352  10454\n",
              "6065  Zip Code 10454          All Households  ...   21532.1755  10454\n",
              "6066  Zip Code 10454          All Households  ...        21447  10454\n",
              "6067  Zip Code 10474  Families with Children  ...        20114  10474\n",
              "\n",
              "[5 rows x 6 columns]"
            ]
          },
          "metadata": {},
          "execution_count": 8
        }
      ]
    },
    {
      "cell_type": "code",
      "metadata": {
        "id": "IuCl0cFQObGy"
      },
      "source": [
        "# filter locations to get info by zip code\n",
        "prelim_df = prelim_df[prelim_df['Location'].str.contains('Zip Code')]"
      ],
      "execution_count": null,
      "outputs": []
    },
    {
      "cell_type": "code",
      "metadata": {
        "id": "w-rgIaWFQxxJ"
      },
      "source": [
        "# filter household type to get info for all households\n",
        "prelim_df = prelim_df[prelim_df['Household Type'].str.contains('All Households')]"
      ],
      "execution_count": null,
      "outputs": []
    },
    {
      "cell_type": "code",
      "metadata": {
        "colab": {
          "base_uri": "https://localhost:8080/",
          "height": 424
        },
        "id": "rpYNwSG4Q1Fi",
        "outputId": "27393249-1e1d-4c97-ef12-2735df8cdb18"
      },
      "source": [
        "prelim_df"
      ],
      "execution_count": null,
      "outputs": [
        {
          "output_type": "execute_result",
          "data": {
            "text/html": [
              "<div>\n",
              "<style scoped>\n",
              "    .dataframe tbody tr th:only-of-type {\n",
              "        vertical-align: middle;\n",
              "    }\n",
              "\n",
              "    .dataframe tbody tr th {\n",
              "        vertical-align: top;\n",
              "    }\n",
              "\n",
              "    .dataframe thead th {\n",
              "        text-align: right;\n",
              "    }\n",
              "</style>\n",
              "<table border=\"1\" class=\"dataframe\">\n",
              "  <thead>\n",
              "    <tr style=\"text-align: right;\">\n",
              "      <th></th>\n",
              "      <th>Location</th>\n",
              "      <th>Household Type</th>\n",
              "      <th>TimeFrame</th>\n",
              "      <th>DataFormat</th>\n",
              "      <th>Data</th>\n",
              "      <th>Fips</th>\n",
              "    </tr>\n",
              "  </thead>\n",
              "  <tbody>\n",
              "    <tr>\n",
              "      <th>3900</th>\n",
              "      <td>Zip Code 10282</td>\n",
              "      <td>All Households</td>\n",
              "      <td>2017</td>\n",
              "      <td>Dollars</td>\n",
              "      <td>260735.115</td>\n",
              "      <td>10282</td>\n",
              "    </tr>\n",
              "    <tr>\n",
              "      <th>3917</th>\n",
              "      <td>Zip Code 10282</td>\n",
              "      <td>All Households</td>\n",
              "      <td>2018</td>\n",
              "      <td>Dollars</td>\n",
              "      <td>254530.4935</td>\n",
              "      <td>10282</td>\n",
              "    </tr>\n",
              "    <tr>\n",
              "      <th>3937</th>\n",
              "      <td>Zip Code 10007</td>\n",
              "      <td>All Households</td>\n",
              "      <td>2017</td>\n",
              "      <td>Dollars</td>\n",
              "      <td>253062.2327</td>\n",
              "      <td>10007</td>\n",
              "    </tr>\n",
              "    <tr>\n",
              "      <th>3939</th>\n",
              "      <td>Zip Code 10007</td>\n",
              "      <td>All Households</td>\n",
              "      <td>2018</td>\n",
              "      <td>Dollars</td>\n",
              "      <td>251284.7336</td>\n",
              "      <td>10007</td>\n",
              "    </tr>\n",
              "    <tr>\n",
              "      <th>3942</th>\n",
              "      <td>Zip Code 10282</td>\n",
              "      <td>All Households</td>\n",
              "      <td>2019</td>\n",
              "      <td>Dollars</td>\n",
              "      <td>250001</td>\n",
              "      <td>10282</td>\n",
              "    </tr>\n",
              "    <tr>\n",
              "      <th>...</th>\n",
              "      <td>...</td>\n",
              "      <td>...</td>\n",
              "      <td>...</td>\n",
              "      <td>...</td>\n",
              "      <td>...</td>\n",
              "      <td>...</td>\n",
              "    </tr>\n",
              "    <tr>\n",
              "      <th>6050</th>\n",
              "      <td>Zip Code 10453</td>\n",
              "      <td>All Households</td>\n",
              "      <td>2017</td>\n",
              "      <td>Dollars</td>\n",
              "      <td>25469.54709</td>\n",
              "      <td>10453</td>\n",
              "    </tr>\n",
              "    <tr>\n",
              "      <th>6060</th>\n",
              "      <td>Zip Code 10474</td>\n",
              "      <td>All Households</td>\n",
              "      <td>2019</td>\n",
              "      <td>Dollars</td>\n",
              "      <td>22965</td>\n",
              "      <td>10474</td>\n",
              "    </tr>\n",
              "    <tr>\n",
              "      <th>6064</th>\n",
              "      <td>Zip Code 10454</td>\n",
              "      <td>All Households</td>\n",
              "      <td>2017</td>\n",
              "      <td>Dollars</td>\n",
              "      <td>22466.93352</td>\n",
              "      <td>10454</td>\n",
              "    </tr>\n",
              "    <tr>\n",
              "      <th>6065</th>\n",
              "      <td>Zip Code 10454</td>\n",
              "      <td>All Households</td>\n",
              "      <td>2018</td>\n",
              "      <td>Dollars</td>\n",
              "      <td>21532.1755</td>\n",
              "      <td>10454</td>\n",
              "    </tr>\n",
              "    <tr>\n",
              "      <th>6066</th>\n",
              "      <td>Zip Code 10454</td>\n",
              "      <td>All Households</td>\n",
              "      <td>2019</td>\n",
              "      <td>Dollars</td>\n",
              "      <td>21447</td>\n",
              "      <td>10454</td>\n",
              "    </tr>\n",
              "  </tbody>\n",
              "</table>\n",
              "<p>543 rows × 6 columns</p>\n",
              "</div>"
            ],
            "text/plain": [
              "            Location  Household Type  TimeFrame DataFormat         Data   Fips\n",
              "3900  Zip Code 10282  All Households       2017    Dollars   260735.115  10282\n",
              "3917  Zip Code 10282  All Households       2018    Dollars  254530.4935  10282\n",
              "3937  Zip Code 10007  All Households       2017    Dollars  253062.2327  10007\n",
              "3939  Zip Code 10007  All Households       2018    Dollars  251284.7336  10007\n",
              "3942  Zip Code 10282  All Households       2019    Dollars       250001  10282\n",
              "...              ...             ...        ...        ...          ...    ...\n",
              "6050  Zip Code 10453  All Households       2017    Dollars  25469.54709  10453\n",
              "6060  Zip Code 10474  All Households       2019    Dollars        22965  10474\n",
              "6064  Zip Code 10454  All Households       2017    Dollars  22466.93352  10454\n",
              "6065  Zip Code 10454  All Households       2018    Dollars   21532.1755  10454\n",
              "6066  Zip Code 10454  All Households       2019    Dollars        21447  10454\n",
              "\n",
              "[543 rows x 6 columns]"
            ]
          },
          "metadata": {},
          "execution_count": 11
        }
      ]
    },
    {
      "cell_type": "code",
      "metadata": {
        "colab": {
          "base_uri": "https://localhost:8080/"
        },
        "id": "akYnkX_DT85L",
        "outputId": "2338560e-ce9e-474c-f36f-b384eb79ecbb"
      },
      "source": [
        "prelim_df.isnull().any()"
      ],
      "execution_count": null,
      "outputs": [
        {
          "output_type": "execute_result",
          "data": {
            "text/plain": [
              "Location          False\n",
              "Household Type    False\n",
              "TimeFrame         False\n",
              "DataFormat        False\n",
              "Data              False\n",
              "Fips              False\n",
              "dtype: bool"
            ]
          },
          "metadata": {},
          "execution_count": 12
        }
      ]
    },
    {
      "cell_type": "code",
      "metadata": {
        "id": "PQuLxWX7Wumb"
      },
      "source": [
        "final_df = prelim_df"
      ],
      "execution_count": null,
      "outputs": []
    },
    {
      "cell_type": "code",
      "metadata": {
        "id": "8nEVdGlRX_oL"
      },
      "source": [
        "final_df.to_csv('NYC_Median_HH_Income.csv')"
      ],
      "execution_count": null,
      "outputs": []
    },
    {
      "cell_type": "code",
      "metadata": {
        "id": "gqrXy1M-YGQm",
        "colab": {
          "base_uri": "https://localhost:8080/",
          "height": 674
        },
        "outputId": "c29175e9-fbcd-44b7-d735-d410c26c4fdf"
      },
      "source": [
        "g = sns.FacetGrid(final_df, row='TimeFrame')\n",
        "g.map_dataframe(sns.lineplot, x='Fips', y='Data')"
      ],
      "execution_count": null,
      "outputs": [
        {
          "output_type": "execute_result",
          "data": {
            "text/plain": [
              "<seaborn.axisgrid.FacetGrid at 0x7fe7daa01f50>"
            ]
          },
          "metadata": {},
          "execution_count": 17
        },
        {
          "output_type": "display_data",
          "data": {
            "image/png": "[encoded data removed]",
            "text/plain": [
              "<Figure size 216x648 with 3 Axes>"
            ]
          },
          "metadata": {
            "needs_background": "light"
          }
        }
      ]
    },
    {
      "cell_type": "code",
      "source": [
        "sns.lineplot()"
      ],
      "metadata": {
        "id": "hkd_zgWNeaQL"
      },
      "execution_count": null,
      "outputs": []
    }
  ]
}